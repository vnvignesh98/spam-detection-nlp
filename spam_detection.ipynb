{
 "cells": [
  {
   "cell_type": "code",
   "execution_count": 51,
   "id": "e13ba741",
   "metadata": {},
   "outputs": [],
   "source": [
    "# Importing Packages \n",
    "from sklearn.feature_extraction.text import TfidfVectorizer\n",
    "from sklearn.feature_extraction.text import CountVectorizer\n",
    "from sklearn.model_selection import train_test_split\n",
    "from sklearn.naive_bayes import MultinomialNB\n",
    "from sklearn.metrics import accuracy_score\n",
    "from nltk.stem import PorterStemmer\n",
    "from nltk.stem import WordNetLemmatizer\n",
    "from nltk.corpus import stopwords\n",
    "import pandas as pd\n",
    "import nltk\n",
    "import re"
   ]
  },
  {
   "cell_type": "code",
   "execution_count": 52,
   "id": "60b36248",
   "metadata": {},
   "outputs": [],
   "source": [
    "# Loading Data\n",
    "df = pd.read_csv('spam.csv', encoding = \"ISO-8859-1\")"
   ]
  },
  {
   "cell_type": "code",
   "execution_count": 53,
   "id": "97221e6f",
   "metadata": {},
   "outputs": [],
   "source": [
    "# Removing unnecessary columns\n",
    "for i in df.columns:\n",
    "    if \"Unnamed\" in i:\n",
    "        df.drop(columns=i,inplace=True)"
   ]
  },
  {
   "cell_type": "code",
   "execution_count": 54,
   "id": "832c3ec8",
   "metadata": {},
   "outputs": [],
   "source": [
    "# Labelling the columns\n",
    "df.columns = ['Label','Description']"
   ]
  },
  {
   "cell_type": "code",
   "execution_count": 55,
   "id": "ef70ed7b",
   "metadata": {},
   "outputs": [],
   "source": [
    "# Lemmatization with tokenization\n",
    "corpus = []\n",
    "lemma = WordNetLemmatizer()\n",
    "for i in range(0,len(df)):\n",
    "    review = re.sub('[^a-zA-Z]',\" \",df['Description'][i])\n",
    "    review = review.lower()\n",
    "    review = review.split()\n",
    "    review = [lemma.lemmatize(word) for word in review if word.lower() not in set(stopwords.words('english'))]\n",
    "    review = \" \".join(review)\n",
    "    corpus.append(review)"
   ]
  },
  {
   "cell_type": "code",
   "execution_count": 68,
   "id": "74d1898e",
   "metadata": {},
   "outputs": [],
   "source": [
    "# Bag of Words\n",
    "# tfidf = TfidfVectorizer()\n",
    "# X = pd.DataFrame(tfidf.fit_transform(corpus).toarray())\n",
    "cv = CountVectorizer()\n",
    "X = pd.DataFrame(cv.fit_transform(corpus).toarray())"
   ]
  },
  {
   "cell_type": "code",
   "execution_count": 69,
   "id": "82e7993d",
   "metadata": {},
   "outputs": [],
   "source": [
    "# One Hot Encoding\n",
    "y = pd.get_dummies(df['Label'])\n",
    "y = y.iloc[:,1].values"
   ]
  },
  {
   "cell_type": "code",
   "execution_count": 70,
   "id": "e5de53a0",
   "metadata": {},
   "outputs": [],
   "source": [
    "# Train & test splitting\n",
    "X_train, X_test, y_train, y_test = train_test_split(X,y,test_size=0.1,random_state=42)"
   ]
  },
  {
   "cell_type": "code",
   "execution_count": 71,
   "id": "15f70132",
   "metadata": {},
   "outputs": [],
   "source": [
    "# Model Building\n",
    "model = MultinomialNB().fit(X_train,y_train)"
   ]
  },
  {
   "cell_type": "code",
   "execution_count": 72,
   "id": "045c3933",
   "metadata": {},
   "outputs": [],
   "source": [
    "# Prediction\n",
    "y_pred = model.predict(X_test)"
   ]
  },
  {
   "cell_type": "code",
   "execution_count": 73,
   "id": "aea44c00",
   "metadata": {},
   "outputs": [
    {
     "data": {
      "text/plain": [
       "0.9731182795698925"
      ]
     },
     "execution_count": 73,
     "metadata": {},
     "output_type": "execute_result"
    }
   ],
   "source": [
    "# Accuracy Score\n",
    "accuracy_score(y_test,y_pred)"
   ]
  }
 ],
 "metadata": {
  "kernelspec": {
   "display_name": "Python 3",
   "language": "python",
   "name": "python3"
  },
  "language_info": {
   "codemirror_mode": {
    "name": "ipython",
    "version": 3
   },
   "file_extension": ".py",
   "mimetype": "text/x-python",
   "name": "python",
   "nbconvert_exporter": "python",
   "pygments_lexer": "ipython3",
   "version": "3.12.2"
  }
 },
 "nbformat": 4,
 "nbformat_minor": 5
}
